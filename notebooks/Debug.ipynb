{
 "cells": [
  {
   "cell_type": "markdown",
   "id": "55a24394-a0de-4c2a-bfd9-e8a9667f6acb",
   "metadata": {},
   "source": [
    "# Difference in the hidden_states"
   ]
  },
  {
   "cell_type": "code",
   "execution_count": 1,
   "id": "a41d7595-bdcf-484b-b164-8ed4468fd460",
   "metadata": {},
   "outputs": [],
   "source": [
    "import torch\n",
    "from transformers import PreTrainedTokenizerFast\n",
    "import numpy as np"
   ]
  },
  {
   "cell_type": "code",
   "execution_count": 2,
   "id": "d544438b-dfa5-40b7-a4bf-aad6206f6594",
   "metadata": {},
   "outputs": [
    {
     "data": {
      "text/plain": [
       "{'transformer': {'hidden_dim': 512, 'num_heads': 8, 'intermediate_dim': 2048, 'eps': 1e-06, 'num_layers': 6, 'dropout': 0.1, 'label_smoothing': 0.1}, 'train': {'warmup_steps': 4000, 'max_length': 128, 'device': 'cpu', 'train_batch': 8, 'eval_batch': 8, 'steps': 10, 'epochs': 0, 'val_steps': 4, 'log_steps': 4, 'save_steps': 4, 'use_bitsandbytes': False, 'save_path': 'weights/', 'dataset_name': 'bentrevett/multi30k'}, 'inference': {'checkpoint': 'C:\\\\Users\\\\victo\\\\Documents\\\\DataScience\\\\python\\\\papers_implementation\\\\transformer-pytorch\\\\weights\\\\transformer_2001.pth'}, 'tokenizer': {'tokenizer_path': 'C:\\\\Users\\\\victo\\\\Documents\\\\DataScience\\\\python\\\\papers_implementation\\\\transformer-pytorch\\\\data\\\\tokenizer.json', 'vocabulary_size': 37000, 'special_tokens': ['<unk>', '<bos>', '<eos>', '<pad>'], 'unk_token': '<unk>', 'save_path': 'data'}}"
      ]
     },
     "execution_count": 2,
     "metadata": {},
     "output_type": "execute_result"
    }
   ],
   "source": [
    "import omegaconf\n",
    "path = r\"C:\\Users\\victo\\Documents\\DataScience\\python\\papers_implementation\\transformer-pytorch\\config.yaml\"\n",
    "conf = omegaconf.OmegaConf.load(path)\n",
    "conf"
   ]
  },
  {
   "cell_type": "code",
   "execution_count": 3,
   "id": "ae574b04-1a2e-4483-af62-8069ece57d64",
   "metadata": {},
   "outputs": [],
   "source": [
    "import sys\n",
    "\n",
    "sys.path.insert(0, r\"C:\\Users\\victo\\Documents\\DataScience\\python\\papers_implementation\\transformer-pytorch\") \n",
    "\n",
    "from transformer_implementation import transformer\n",
    "from util.prepare_model import prepare_test\n"
   ]
  },
  {
   "cell_type": "code",
   "execution_count": 5,
   "id": "b78fcc61-3e4b-4d5f-993b-c59402306bf7",
   "metadata": {},
   "outputs": [
    {
     "name": "stdout",
     "output_type": "stream",
     "text": [
      "{'input_ids': tensor([[    1,   566,   189,   213,    13,   189,   103,  2239,   235,  5664,\n",
      "          5352,  2206,    60,  4912,  8874,    84, 18742,   155,  5068,   347,\n",
      "           151,   137,  1855, 34659,   121,   189,   180,  3385,  2206,   151,\n",
      "           624,   355,   155,  8573,   565,  2297,  7098,   276,   148,   137,\n",
      "          1855, 34659,    15,     2]]), 'token_type_ids': tensor([[0, 0, 0, 0, 0, 0, 0, 0, 0, 0, 0, 0, 0, 0, 0, 0, 0, 0, 0, 0, 0, 0, 0, 0,\n",
      "         0, 0, 0, 0, 0, 0, 0, 0, 0, 0, 0, 0, 0, 0, 0, 0, 0, 0, 0, 0]]), 'attention_mask': tensor([[1, 1, 1, 1, 1, 1, 1, 1, 1, 1, 1, 1, 1, 1, 1, 1, 1, 1, 1, 1, 1, 1, 1, 1,\n",
      "         1, 1, 1, 1, 1, 1, 1, 1, 1, 1, 1, 1, 1, 1, 1, 1, 1, 1, 1, 1]])}\n",
      "tensor(1)\n"
     ]
    }
   ],
   "source": [
    "np.random.seed(46)\n",
    "torch.manual_seed(46)\n",
    "\n",
    "model, tokenizer = prepare_test(conf)\n",
    "\n",
    "text = \"However, we in Parliament also have a supervisory role with regard to the Commission and we do not have to agree with everything which comes out of the Commission.\"\n",
    "target = \"Aber wir als Parlament sind auch der Kontrolleur der Kommission. Und nicht alles, was von der Kommission kommt, muß unsere Meinung sein.\"\n",
    "inputs = tokenizer(text, add_special_tokens=True, return_tensors=\"pt\")\n",
    "print(inputs)\n",
    "target_tokens = tokenizer(target, add_special_tokens=True, return_tensors=\"pt\")\n",
    "print(target_tokens[\"input_ids\"][0][0])\n"
   ]
  },
  {
   "cell_type": "code",
   "execution_count": 6,
   "id": "b9658f9f-9bc3-4430-af16-bae067bd5ef6",
   "metadata": {},
   "outputs": [],
   "source": [
    "with torch.no_grad():\n",
    "    logits, loss, last_hidden_states, attentions_array = model(inputs[\"input_ids\"], target_tokens[\"input_ids\"], inputs[\"attention_mask\"], target_tokens[\"attention_mask\"], last_hidden_states=True, output_attentions=True)\n"
   ]
  },
  {
   "cell_type": "code",
   "execution_count": 13,
   "id": "1c779782-e9f4-40b4-8788-35d47c38994d",
   "metadata": {},
   "outputs": [
    {
     "data": {
      "text/plain": [
       "torch.Size([1, 36, 512])"
      ]
     },
     "execution_count": 13,
     "metadata": {},
     "output_type": "execute_result"
    }
   ],
   "source": [
    "last_hidden_states.shape"
   ]
  },
  {
   "cell_type": "code",
   "execution_count": 29,
   "id": "c504f0e0-6886-4842-9be6-78b53b8dc6b9",
   "metadata": {},
   "outputs": [
    {
     "name": "stdout",
     "output_type": "stream",
     "text": [
      "Difference between each hidden state: [tensor(42.9731), tensor(42.0072), tensor(38.7744), tensor(42.0370), tensor(40.9112), tensor(39.9935), tensor(40.0195), tensor(40.2425), tensor(41.3352), tensor(42.5116), tensor(40.5111), tensor(39.4051), tensor(41.5198), tensor(39.7657), tensor(38.6789), tensor(43.9643), tensor(37.4631), tensor(35.6786), tensor(35.7449), tensor(36.6782), tensor(36.4163), tensor(36.2322), tensor(40.0779), tensor(37.1656), tensor(35.5759), tensor(36.0694), tensor(36.6024), tensor(36.6298), tensor(36.6564), tensor(36.7059), tensor(36.0944), tensor(36.4106), tensor(37.2401), tensor(36.5672), tensor(44.9836), tensor(46.1196)] with len 36\n"
     ]
    }
   ],
   "source": [
    "diffs = []\n",
    "for i in range(last_hidden_states.shape[1]):\n",
    "    gap = 0\n",
    "    for j in range(last_hidden_states.shape[1]):\n",
    "        if j != i:\n",
    "            gap += torch.sum(torch.abs(last_hidden_states[0][i] - last_hidden_states[0][j]))/last_hidden_states.shape[-1]\n",
    "    diffs.append(gap)\n",
    "print(f\"Difference between each hidden state: {diffs} with len {len(diffs)}\")\n"
   ]
  },
  {
   "cell_type": "code",
   "execution_count": 8,
   "id": "4d99a7df-0817-400a-91d5-7d2797bf9e50",
   "metadata": {},
   "outputs": [
    {
     "data": {
      "text/plain": [
       "(tensor([-0.4472, -1.5383, -1.0179,  1.0165,  0.1279, -0.8664, -2.0355, -1.1538,\n",
       "          0.1597, -2.1707, -2.6841,  1.5353,  0.1131,  1.4323, -1.2051,  0.7774,\n",
       "          0.6282,  2.1580, -1.1236, -0.2668, -0.5167, -0.7873, -1.2380, -0.1678,\n",
       "          0.8293]),\n",
       " tensor([ 0.0980,  1.0914, -0.0707,  0.2338, -1.7034, -0.2862,  0.4016,  0.4812,\n",
       "          0.0736, -1.6723,  0.5512, -0.3839,  0.3622, -0.1609, -0.7015,  0.4178,\n",
       "         -0.6491, -0.0874,  0.4646, -0.0973, -0.0436,  0.1668, -3.8233,  0.0441,\n",
       "          0.1232]))"
      ]
     },
     "execution_count": 8,
     "metadata": {},
     "output_type": "execute_result"
    }
   ],
   "source": [
    "last_hidden_states[0][0][0:25], last_hidden_states[0][-1][0:25]"
   ]
  },
  {
   "cell_type": "code",
   "execution_count": 9,
   "id": "53729db3-d6b0-4cae-a6e3-b20a1af566fd",
   "metadata": {},
   "outputs": [
    {
     "data": {
      "text/plain": [
       "tensor([-0.5452, -2.6297, -0.9473,  0.7827,  1.8313, -0.5802, -2.4371, -1.6350,\n",
       "         0.0862, -0.4984, -3.2354,  1.9192, -0.2490,  1.5932, -0.5036,  0.3596,\n",
       "         1.2773,  2.2454, -1.5882, -0.1695])"
      ]
     },
     "execution_count": 9,
     "metadata": {},
     "output_type": "execute_result"
    }
   ],
   "source": [
    "(last_hidden_states[0][0] - last_hidden_states[0][-1])[:20]"
   ]
  },
  {
   "cell_type": "code",
   "execution_count": 30,
   "id": "9ea20d3a-c15a-40b3-ac49-a499a3a4d313",
   "metadata": {},
   "outputs": [
    {
     "data": {
      "text/plain": [
       "tensor(1.3676)"
      ]
     },
     "execution_count": 30,
     "metadata": {},
     "output_type": "execute_result"
    }
   ],
   "source": [
    "torch.sum(torch.abs(last_hidden_states[0][0] - last_hidden_states[0][-1]))/last_hidden_states.shape[-1]"
   ]
  },
  {
   "cell_type": "markdown",
   "id": "2305c2e7-2990-4923-8916-fc1b05f16d44",
   "metadata": {},
   "source": [
    "Now there is a clear diference between the hidden_states. So we can see that the model has learned to change the predictions based on the context."
   ]
  },
  {
   "cell_type": "markdown",
   "id": "2b106777-d44d-48c5-9f85-06471afc8ff6",
   "metadata": {},
   "source": [
    "## Attention mask"
   ]
  },
  {
   "cell_type": "code",
   "execution_count": 32,
   "id": "577f89e3-67e4-47c3-8edd-95de6ae2787e",
   "metadata": {},
   "outputs": [
    {
     "data": {
      "text/plain": [
       "(torch.Size([1, 8, 36, 36]), 6)"
      ]
     },
     "execution_count": 32,
     "metadata": {},
     "output_type": "execute_result"
    }
   ],
   "source": [
    "attentions_array[0].shape, len(attentions_array)"
   ]
  },
  {
   "cell_type": "code",
   "execution_count": 33,
   "id": "1d16b1dd-9021-4b22-a676-dbd2fe5661c3",
   "metadata": {},
   "outputs": [
    {
     "name": "stdout",
     "output_type": "stream",
     "text": [
      "Difference between each attention layer: [tensor(6.3151), tensor(5.4291), tensor(5.6988), tensor(5.8325), tensor(5.1745), tensor(5.7326)] with len 6\n"
     ]
    }
   ],
   "source": [
    "diffs = []\n",
    "for i in range(len(attentions_array)):\n",
    "    gap = 0\n",
    "    for j in range(len(attentions_array)):\n",
    "        if j != i:\n",
    "            gap += torch.sum(torch.abs(attentions_array[i][0][0] - attentions_array[j][0][0]))/attentions_array[0][0][0].shape[-1]\n",
    "    diffs.append(gap)\n",
    "print(f\"Difference between each attention layer: {diffs} with len {len(diffs)}\")\n"
   ]
  },
  {
   "cell_type": "code",
   "execution_count": 34,
   "id": "494608ee-65e6-4685-8896-d8be88bc41f8",
   "metadata": {},
   "outputs": [
    {
     "data": {
      "text/plain": [
       "tensor([[1.0000, 0.0000, 0.0000,  ..., 0.0000, 0.0000, 0.0000],\n",
       "        [0.3018, 0.6982, 0.0000,  ..., 0.0000, 0.0000, 0.0000],\n",
       "        [0.0829, 0.3011, 0.6160,  ..., 0.0000, 0.0000, 0.0000],\n",
       "        ...,\n",
       "        [0.0048, 0.0443, 0.0390,  ..., 0.0071, 0.0000, 0.0000],\n",
       "        [0.0034, 0.0190, 0.0357,  ..., 0.0065, 0.0017, 0.0000],\n",
       "        [0.0059, 0.0213, 0.0347,  ..., 0.0072, 0.0014, 0.0241]])"
      ]
     },
     "execution_count": 34,
     "metadata": {},
     "output_type": "execute_result"
    }
   ],
   "source": [
    "attentions_array[0][0][0]"
   ]
  },
  {
   "cell_type": "code",
   "execution_count": 45,
   "id": "4850577a-fb58-48ce-9dae-eff5a3b309b4",
   "metadata": {},
   "outputs": [
    {
     "data": {
      "image/png": "[encoded data removed]",
      "text/plain": [
       "<Figure size 600x600 with 1 Axes>"
      ]
     },
     "metadata": {},
     "output_type": "display_data"
    }
   ],
   "source": [
    "import matplotlib.pyplot as plt\n",
    "import numpy as np\n",
    "\n",
    "attentions_numpy = attentions_array[0][0][0].numpy()\n",
    "plt.figure(figsize=(6, 6))\n",
    "plt.imshow(attentions_numpy)\n",
    "plt.axis('off')\n",
    "plt.show()\n"
   ]
  },
  {
   "cell_type": "code",
   "execution_count": 43,
   "id": "186ebd7a-0df5-4323-9330-1f0c8bbed6fa",
   "metadata": {},
   "outputs": [
    {
     "data": {
      "image/png": "[encoded data removed]",
      "text/plain": [
       "<Figure size 1000x1000 with 2 Axes>"
      ]
     },
     "metadata": {},
     "output_type": "display_data"
    }
   ],
   "source": [
    "import matplotlib.pyplot as plt\n",
    "import numpy as np\n",
    "\n",
    "attentions_numpy_0 = attentions_array[0][0][0].numpy()\n",
    "attentions_numpy_5 = attentions_array[-1][0][0].numpy()\n",
    "\n",
    "fig, axs = plt.subplots(1, 2, figsize=(10, 10))\n",
    "axs[0].imshow(attentions_numpy_0)\n",
    "axs[0].set_title(\"Attention map first layer\")\n",
    "axs[1].imshow(attentions_numpy_5)\n",
    "axs[1].set_title(\"Attention map last layer\")\n",
    "\n",
    "plt.show()"
   ]
  },
  {
   "cell_type": "markdown",
   "id": "59101871-c15a-484d-b280-94bf26273542",
   "metadata": {},
   "source": [
    "# Plot overfitting one batch"
   ]
  },
  {
   "cell_type": "code",
   "execution_count": 1,
   "id": "9945964f-1da0-4510-aa8e-3153668ff21e",
   "metadata": {},
   "outputs": [
    {
     "data": {
      "text/html": [
       "<div>\n",
       "<style scoped>\n",
       "    .dataframe tbody tr th:only-of-type {\n",
       "        vertical-align: middle;\n",
       "    }\n",
       "\n",
       "    .dataframe tbody tr th {\n",
       "        vertical-align: top;\n",
       "    }\n",
       "\n",
       "    .dataframe thead th {\n",
       "        text-align: right;\n",
       "    }\n",
       "</style>\n",
       "<table border=\"1\" class=\"dataframe\">\n",
       "  <thead>\n",
       "    <tr style=\"text-align: right;\">\n",
       "      <th></th>\n",
       "      <th>Unnamed: 0</th>\n",
       "      <th>losses</th>\n",
       "      <th>gradient_norm</th>\n",
       "      <th>learning_rate</th>\n",
       "    </tr>\n",
       "  </thead>\n",
       "  <tbody>\n",
       "    <tr>\n",
       "      <th>0</th>\n",
       "      <td>0</td>\n",
       "      <td>[8.947648048400879, 8.939841270446777, 8.93004...</td>\n",
       "      <td>[8.179412841796875, 8.171945571899414, 8.11767...</td>\n",
       "      <td>[1.746928107421711e-07, 3.493856214843422e-07,...</td>\n",
       "    </tr>\n",
       "  </tbody>\n",
       "</table>\n",
       "</div>"
      ],
      "text/plain": [
       "   Unnamed: 0                                             losses  \\\n",
       "0           0  [8.947648048400879, 8.939841270446777, 8.93004...   \n",
       "\n",
       "                                       gradient_norm  \\\n",
       "0  [8.179412841796875, 8.171945571899414, 8.11767...   \n",
       "\n",
       "                                       learning_rate  \n",
       "0  [1.746928107421711e-07, 3.493856214843422e-07,...  "
      ]
     },
     "execution_count": 1,
     "metadata": {},
     "output_type": "execute_result"
    }
   ],
   "source": [
    "import matplotlib.pyplot as plt\n",
    "from tqdm import tqdm\n",
    "import pandas as pd\n",
    "\n",
    "df = pd.read_csv(r\"C:\\Users\\victo\\Documents\\DataScience\\python\\papers_implementation\\transformer-pytorch\\log_overfit_batch.csv\")\n",
    "df"
   ]
  },
  {
   "cell_type": "code",
   "execution_count": 6,
   "id": "bbdaeac4-ddae-427b-ae1e-cc791a5d056e",
   "metadata": {},
   "outputs": [
    {
     "data": {
      "text/plain": [
       "'[8.947648048400879, 8.939841270446777, 8.930047035217285, 8.932550430297852, 8.944811820983887, 8.910247802734375, 8.892906188964844, 8.894241333007812, 8.858434677124023, 8.837726593017578, 8.825141906738281, 8.778119087219238, 8.747640609741211, 8.737935066223145, 8.679953575134277, 8.677717208862305, 8.621599197387695, 8.568243026733398, 8.536102294921875, 8.490978240966797, 8.422301292419434, 8.425297737121582, 8.350590705871582, 8.317708969116211, 8.270283699035645, 8.207164764404297, 8.151046752929688, 8.118732452392578, 8.056819915771484, 7.995318412780762, 7.967464923858643, 7.892711162567139, 7.842825412750244, 7.797593116760254, 7.746303081512451, 7.698915004730225, 7.631118297576904, 7.584076404571533, 7.54810905456543, 7.502900123596191, 7.449223041534424, 7.384243965148926, 7.370930194854736, 7.2977614402771, 7.263304710388184, 7.2254767417907715, 7.1861891746521, 7.146808624267578, 7.091609477996826, 7.059393405914307, 7.035025596618652, 6.9909162521362305, 6.965413570404053, 6.920928955078125, 6.888500213623047, 6.870778560638428, 6.834364414215088, 6.813312530517578, 6.774635314941406, 6.744987964630127, 6.73233699798584, 6.702500820159912, 6.671298027038574, 6.6594061851501465, 6.618712902069092, 6.598611831665039, 6.560176849365234, 6.539971351623535, 6.525265693664551, 6.483904838562012, 6.460841655731201, 6.44578218460083, 6.413576126098633, 6.385749816894531, 6.351591110229492, 6.3398966789245605, 6.309207916259766, 6.282104015350342, 6.253736972808838, 6.2182793617248535, 6.206412315368652, 6.173601150512695, 6.124708652496338, 6.114187717437744, 6.07969856262207, 6.046532154083252, 6.013369083404541, 5.982702732086182, 5.956318378448486, 5.914254665374756, 5.901645660400391, 5.86911678314209, 5.841568470001221, 5.809687614440918, 5.769831657409668, 5.721555709838867, 5.686094284057617, 5.670704364776611, 5.615703105926514, 5.601919174194336, 5.566347599029541, 5.519471168518066, 5.492214202880859, 5.46956729888916, 5.446082592010498, 5.407235145568848, 5.364499092102051, 5.321590423583984, 5.291877746582031, 5.273165225982666, 5.231817722320557, 5.207132339477539, 5.156649589538574, 5.12956428527832, 5.099983215332031, 5.0621137619018555, 5.032360553741455, 4.995258808135986, 4.977719783782959, 4.9351701736450195, 4.909941673278809, 4.868961811065674, 4.830657005310059, 4.80694055557251, 4.751961708068848, 4.72987174987793, 4.688122272491455, 4.666505813598633, 4.623620986938477, 4.602445125579834, 4.547060966491699, 4.517951488494873, 4.47869348526001, 4.450558185577393, 4.415896415710449, 4.37793493270874, 4.336710453033447, 4.306382179260254, 4.263090133666992, 4.2273454666137695, 4.195358753204346, 4.1577959060668945, 4.135557174682617, 4.0746331214904785, 4.052413463592529, 4.016306400299072, 3.973641872406006, 3.9478163719177246, 3.911620616912842, 3.8608593940734863]'"
      ]
     },
     "execution_count": 6,
     "metadata": {},
     "output_type": "execute_result"
    }
   ],
   "source": [
    "df[\"losses\"][0]"
   ]
  },
  {
   "cell_type": "code",
   "execution_count": 8,
   "id": "aa0b5aa0-780a-4d99-9a4e-e83e6cde8cb1",
   "metadata": {},
   "outputs": [
    {
     "data": {
      "text/plain": [
       "150"
      ]
     },
     "execution_count": 8,
     "metadata": {},
     "output_type": "execute_result"
    }
   ],
   "source": [
    "a = [8.947648048400879, 8.939841270446777, 8.930047035217285, 8.932550430297852, 8.944811820983887, 8.910247802734375, 8.892906188964844, 8.894241333007812, 8.858434677124023, 8.837726593017578, 8.825141906738281, 8.778119087219238, 8.747640609741211, 8.737935066223145, 8.679953575134277, 8.677717208862305, 8.621599197387695, 8.568243026733398, 8.536102294921875, 8.490978240966797, 8.422301292419434, 8.425297737121582, 8.350590705871582, 8.317708969116211, 8.270283699035645, 8.207164764404297, 8.151046752929688, 8.118732452392578, 8.056819915771484, 7.995318412780762, 7.967464923858643, 7.892711162567139, 7.842825412750244, 7.797593116760254, 7.746303081512451, 7.698915004730225, 7.631118297576904, 7.584076404571533, 7.54810905456543, 7.502900123596191, 7.449223041534424, 7.384243965148926, 7.370930194854736, 7.2977614402771, 7.263304710388184, 7.2254767417907715, 7.1861891746521, 7.146808624267578, 7.091609477996826, 7.059393405914307, 7.035025596618652, 6.9909162521362305, 6.965413570404053, 6.920928955078125, 6.888500213623047, 6.870778560638428, 6.834364414215088, 6.813312530517578, 6.774635314941406, 6.744987964630127, 6.73233699798584, 6.702500820159912, 6.671298027038574, 6.6594061851501465, 6.618712902069092, 6.598611831665039, 6.560176849365234, 6.539971351623535, 6.525265693664551, 6.483904838562012, 6.460841655731201, 6.44578218460083, 6.413576126098633, 6.385749816894531, 6.351591110229492, 6.3398966789245605, 6.309207916259766, 6.282104015350342, 6.253736972808838, 6.2182793617248535, 6.206412315368652, 6.173601150512695, 6.124708652496338, 6.114187717437744, 6.07969856262207, 6.046532154083252, 6.013369083404541, 5.982702732086182, 5.956318378448486, 5.914254665374756, 5.901645660400391, 5.86911678314209, 5.841568470001221, 5.809687614440918, 5.769831657409668, 5.721555709838867, 5.686094284057617, 5.670704364776611, 5.615703105926514, 5.601919174194336, 5.566347599029541, 5.519471168518066, 5.492214202880859, 5.46956729888916, 5.446082592010498, 5.407235145568848, 5.364499092102051, 5.321590423583984, 5.291877746582031, 5.273165225982666, 5.231817722320557, 5.207132339477539, 5.156649589538574, 5.12956428527832, 5.099983215332031, 5.0621137619018555, 5.032360553741455, 4.995258808135986, 4.977719783782959, 4.9351701736450195, 4.909941673278809, 4.868961811065674, 4.830657005310059, 4.80694055557251, 4.751961708068848, 4.72987174987793, 4.688122272491455, 4.666505813598633, 4.623620986938477, 4.602445125579834, 4.547060966491699, 4.517951488494873, 4.47869348526001, 4.450558185577393, 4.415896415710449, 4.37793493270874, 4.336710453033447, 4.306382179260254, 4.263090133666992, 4.2273454666137695, 4.195358753204346, 4.1577959060668945, 4.135557174682617, 4.0746331214904785, 4.052413463592529, 4.016306400299072, 3.973641872406006, 3.9478163719177246, 3.911620616912842, 3.8608593940734863]\n",
    "len(a)"
   ]
  },
  {
   "cell_type": "code",
   "execution_count": 9,
   "id": "197b99ab-eb57-4be2-b826-92f18ddbf1f1",
   "metadata": {},
   "outputs": [
    {
     "data": {
      "text/plain": [
       "'[8.179412841796875, 8.171945571899414, 8.117674827575684, 8.133055686950684, 8.14954948425293, 8.093913078308105, 8.070540428161621, 8.03487491607666, 7.9598541259765625, 7.993358612060547, 7.89428186416626, 7.865476131439209, 7.798063278198242, 7.754297733306885, 7.6417107582092285, 7.610790729522705, 7.466305732727051, 7.340883255004883, 7.245603084564209, 7.127544403076172, 7.02103853225708, 6.886756420135498, 6.767005920410156, 6.6263933181762695, 6.399762153625488, 6.27032470703125, 6.1259613037109375, 5.9475417137146, 5.792624473571777, 5.588698387145996, 5.480654716491699, 5.301470756530762, 5.1548309326171875, 5.017370223999023, 4.861995697021484, 4.800350666046143, 4.631097793579102, 4.510421276092529, 4.393490791320801, 4.2987165451049805, 4.174847602844238, 4.058496952056885, 3.985567808151245, 3.8987338542938232, 3.8320236206054688, 3.760723829269409, 3.684644937515259, 3.619147300720215, 3.559086799621582, 3.507633924484253, 3.4433419704437256, 3.401014566421509, 3.3876445293426514, 3.3390445709228516, 3.288005828857422, 3.279388427734375, 3.265519142150879, 3.242948293685913, 3.236459732055664, 3.217372179031372, 3.224945545196533, 3.233365058898926, 3.2121922969818115, 3.2220048904418945, 3.1974427700042725, 3.188706159591675, 3.162511110305786, 3.143993616104126, 3.125033378601074, 3.0708343982696533, 3.0545499324798584, 3.0241317749023438, 2.985485792160034, 2.959498167037964, 2.9144608974456787, 2.8919224739074707, 2.8646178245544434, 2.8359618186950684, 2.786710739135742, 2.757862091064453, 2.731565237045288, 2.691288948059082, 2.6866700649261475, 2.64334774017334, 2.6022846698760986, 2.585789918899536, 2.559342384338379, 2.52597975730896, 2.505282402038574, 2.482851505279541, 2.443359851837158, 2.430224895477295, 2.3974521160125732, 2.381146192550659, 2.3522756099700928, 2.3202743530273438, 2.299165964126587, 2.26623797416687, 2.2483913898468018, 2.220090627670288, 2.175999879837036, 2.149264097213745, 2.1231722831726074, 2.0982472896575928, 2.0736677646636963, 2.0380642414093018, 2.0217652320861816, 2.004763603210449, 1.9818474054336548, 1.95783531665802, 1.9439436197280884, 1.918723464012146, 1.8917514085769653, 1.884096622467041, 1.866644024848938, 1.8379459381103516, 1.8147226572036743, 1.8078513145446777, 1.797436237335205, 1.7806971073150635, 1.7741349935531616, 1.762718677520752, 1.746950626373291, 1.7499510049819946, 1.72489333152771, 1.7197233438491821, 1.7059162855148315, 1.70168936252594, 1.6971410512924194, 1.6915127038955688, 1.6762288808822632, 1.67263662815094, 1.6685723066329956, 1.6630889177322388, 1.653965711593628, 1.6541359424591064, 1.6450368165969849, 1.6366798877716064, 1.633931279182434, 1.6255215406417847, 1.62251615524292, 1.607606291770935, 1.6035443544387817, 1.5985074043273926, 1.5982122421264648, 1.5878612995147705, 1.581303358078003, 1.5740598440170288, 1.5673595666885376, 1.5699492692947388]'"
      ]
     },
     "execution_count": 9,
     "metadata": {},
     "output_type": "execute_result"
    }
   ],
   "source": [
    "df[\"gradient_norm\"][0]"
   ]
  },
  {
   "cell_type": "code",
   "execution_count": 10,
   "id": "8bddea05-5648-47fc-bb2c-0064f6dc79c6",
   "metadata": {},
   "outputs": [
    {
     "data": {
      "text/plain": [
       "150"
      ]
     },
     "execution_count": 10,
     "metadata": {},
     "output_type": "execute_result"
    }
   ],
   "source": [
    "grads = [8.179412841796875, 8.171945571899414, 8.117674827575684, 8.133055686950684, 8.14954948425293, 8.093913078308105, 8.070540428161621, 8.03487491607666, 7.9598541259765625, 7.993358612060547, 7.89428186416626, 7.865476131439209, 7.798063278198242, 7.754297733306885, 7.6417107582092285, 7.610790729522705, 7.466305732727051, 7.340883255004883, 7.245603084564209, 7.127544403076172, 7.02103853225708, 6.886756420135498, 6.767005920410156, 6.6263933181762695, 6.399762153625488, 6.27032470703125, 6.1259613037109375, 5.9475417137146, 5.792624473571777, 5.588698387145996, 5.480654716491699, 5.301470756530762, 5.1548309326171875, 5.017370223999023, 4.861995697021484, 4.800350666046143, 4.631097793579102, 4.510421276092529, 4.393490791320801, 4.2987165451049805, 4.174847602844238, 4.058496952056885, 3.985567808151245, 3.8987338542938232, 3.8320236206054688, 3.760723829269409, 3.684644937515259, 3.619147300720215, 3.559086799621582, 3.507633924484253, 3.4433419704437256, 3.401014566421509, 3.3876445293426514, 3.3390445709228516, 3.288005828857422, 3.279388427734375, 3.265519142150879, 3.242948293685913, 3.236459732055664, 3.217372179031372, 3.224945545196533, 3.233365058898926, 3.2121922969818115, 3.2220048904418945, 3.1974427700042725, 3.188706159591675, 3.162511110305786, 3.143993616104126, 3.125033378601074, 3.0708343982696533, 3.0545499324798584, 3.0241317749023438, 2.985485792160034, 2.959498167037964, 2.9144608974456787, 2.8919224739074707, 2.8646178245544434, 2.8359618186950684, 2.786710739135742, 2.757862091064453, 2.731565237045288, 2.691288948059082, 2.6866700649261475, 2.64334774017334, 2.6022846698760986, 2.585789918899536, 2.559342384338379, 2.52597975730896, 2.505282402038574, 2.482851505279541, 2.443359851837158, 2.430224895477295, 2.3974521160125732, 2.381146192550659, 2.3522756099700928, 2.3202743530273438, 2.299165964126587, 2.26623797416687, 2.2483913898468018, 2.220090627670288, 2.175999879837036, 2.149264097213745, 2.1231722831726074, 2.0982472896575928, 2.0736677646636963, 2.0380642414093018, 2.0217652320861816, 2.004763603210449, 1.9818474054336548, 1.95783531665802, 1.9439436197280884, 1.918723464012146, 1.8917514085769653, 1.884096622467041, 1.866644024848938, 1.8379459381103516, 1.8147226572036743, 1.8078513145446777, 1.797436237335205, 1.7806971073150635, 1.7741349935531616, 1.762718677520752, 1.746950626373291, 1.7499510049819946, 1.72489333152771, 1.7197233438491821, 1.7059162855148315, 1.70168936252594, 1.6971410512924194, 1.6915127038955688, 1.6762288808822632, 1.67263662815094, 1.6685723066329956, 1.6630889177322388, 1.653965711593628, 1.6541359424591064, 1.6450368165969849, 1.6366798877716064, 1.633931279182434, 1.6255215406417847, 1.62251615524292, 1.607606291770935, 1.6035443544387817, 1.5985074043273926, 1.5982122421264648, 1.5878612995147705, 1.581303358078003, 1.5740598440170288, 1.5673595666885376, 1.5699492692947388]\n",
    "len(grads)"
   ]
  },
  {
   "cell_type": "code",
   "execution_count": 11,
   "id": "ab37db6b-7d91-47fd-93dc-a16af19f89b3",
   "metadata": {},
   "outputs": [
    {
     "data": {
      "text/plain": [
       "'[1.746928107421711e-07, 3.493856214843422e-07, 5.240784322265133e-07, 6.987712429686844e-07, 8.734640537108554e-07, 1.0481568644530267e-06, 1.2228496751951977e-06, 1.3975424859373688e-06, 1.57223529667954e-06, 1.7469281074217108e-06, 1.921620918163882e-06, 2.0963137289060533e-06, 2.271006539648224e-06, 2.4456993503903955e-06, 2.6203921611325664e-06, 2.7950849718747376e-06, 2.9697777826169085e-06, 3.14447059335908e-06, 3.3191634041012507e-06, 3.4938562148434215e-06, 3.668549025585593e-06, 3.843241836327764e-06, 4.017934647069935e-06, 4.192627457812107e-06, 4.367320268554277e-06, 4.542013079296448e-06, 4.71670589003862e-06, 4.891398700780791e-06, 5.066091511522962e-06, 5.240784322265133e-06, 5.415477133007304e-06, 5.590169943749475e-06, 5.7648627544916466e-06, 5.939555565233817e-06, 6.114248375975988e-06, 6.28894118671816e-06, 6.463633997460331e-06, 6.638326808202501e-06, 6.813019618944673e-06, 6.987712429686843e-06, 7.162405240429014e-06, 7.337098051171186e-06, 7.511790861913357e-06, 7.686483672655528e-06, 7.8611764833977e-06, 8.03586929413987e-06, 8.210562104882042e-06, 8.385254915624213e-06, 8.559947726366383e-06, 8.734640537108554e-06, 8.909333347850726e-06, 9.084026158592897e-06, 9.258718969335068e-06, 9.43341178007724e-06, 9.60810459081941e-06, 9.782797401561582e-06, 9.957490212303753e-06, 1.0132183023045925e-05, 1.0306875833788094e-05, 1.0481568644530265e-05, 1.0656261455272437e-05, 1.0830954266014608e-05, 1.100564707675678e-05, 1.118033988749895e-05, 1.1355032698241122e-05, 1.1529725508983293e-05, 1.1704418319725463e-05, 1.1879111130467634e-05, 1.2053803941209805e-05, 1.2228496751951977e-05, 1.2403189562694148e-05, 1.257788237343632e-05, 1.275257518417849e-05, 1.2927267994920662e-05, 1.3101960805662831e-05, 1.3276653616405003e-05, 1.3451346427147174e-05, 1.3626039237889345e-05, 1.3800732048631515e-05, 1.3975424859373686e-05, 1.4150117670115857e-05, 1.4324810480858029e-05, 1.44995032916002e-05, 1.4674196102342371e-05, 1.4848888913084543e-05, 1.5023581723826714e-05, 1.5198274534568885e-05, 1.5372967345311056e-05, 1.5547660156053228e-05, 1.57223529667954e-05, 1.589704577753757e-05, 1.607173858827974e-05, 1.6246431399021913e-05, 1.6421124209764084e-05, 1.6595817020506255e-05, 1.6770509831248427e-05, 1.6945202641990595e-05, 1.7119895452732766e-05, 1.7294588263474937e-05, 1.746928107421711e-05, 1.764397388495928e-05, 1.781866669570145e-05, 1.7993359506443622e-05, 1.8168052317185794e-05, 1.8342745127927965e-05, 1.8517437938670136e-05, 1.8692130749412307e-05, 1.886682356015448e-05, 1.904151637089665e-05, 1.921620918163882e-05, 1.9390901992380993e-05, 1.9565594803123164e-05, 1.9740287613865335e-05, 1.9914980424607506e-05, 2.0089673235349678e-05, 2.026436604609185e-05, 2.043905885683402e-05, 2.0613751667576188e-05, 2.078844447831836e-05, 2.096313728906053e-05, 2.1137830099802702e-05, 2.1312522910544873e-05, 2.1487215721287045e-05, 2.1661908532029216e-05, 2.1836601342771387e-05, 2.201129415351356e-05, 2.218598696425573e-05, 2.23606797749979e-05, 2.253537258574007e-05, 2.2710065396482244e-05, 2.288475820722441e-05, 2.3059451017966586e-05, 2.3234143828708754e-05, 2.3408836639450925e-05, 2.3583529450193097e-05, 2.3758222260935268e-05, 2.393291507167744e-05, 2.410760788241961e-05, 2.4282300693161782e-05, 2.4456993503903953e-05, 2.4631686314646124e-05, 2.4806379125388296e-05, 2.4981071936130467e-05, 2.515576474687264e-05, 2.533045755761481e-05, 2.550515036835698e-05, 2.567984317909915e-05, 2.5854535989841323e-05, 2.602922880058349e-05, 2.6203921611325663e-05]'"
      ]
     },
     "execution_count": 11,
     "metadata": {},
     "output_type": "execute_result"
    }
   ],
   "source": [
    "df[\"learning_rate\"][0]"
   ]
  },
  {
   "cell_type": "code",
   "execution_count": 12,
   "id": "88be4130-046c-4b0c-a84e-bf5b40a45ef3",
   "metadata": {},
   "outputs": [
    {
     "data": {
      "text/plain": [
       "150"
      ]
     },
     "execution_count": 12,
     "metadata": {},
     "output_type": "execute_result"
    }
   ],
   "source": [
    "learning_rate = [1.746928107421711e-07, 3.493856214843422e-07, 5.240784322265133e-07, 6.987712429686844e-07, 8.734640537108554e-07, 1.0481568644530267e-06, 1.2228496751951977e-06, 1.3975424859373688e-06, 1.57223529667954e-06, 1.7469281074217108e-06, 1.921620918163882e-06, 2.0963137289060533e-06, 2.271006539648224e-06, 2.4456993503903955e-06, 2.6203921611325664e-06, 2.7950849718747376e-06, 2.9697777826169085e-06, 3.14447059335908e-06, 3.3191634041012507e-06, 3.4938562148434215e-06, 3.668549025585593e-06, 3.843241836327764e-06, 4.017934647069935e-06, 4.192627457812107e-06, 4.367320268554277e-06, 4.542013079296448e-06, 4.71670589003862e-06, 4.891398700780791e-06, 5.066091511522962e-06, 5.240784322265133e-06, 5.415477133007304e-06, 5.590169943749475e-06, 5.7648627544916466e-06, 5.939555565233817e-06, 6.114248375975988e-06, 6.28894118671816e-06, 6.463633997460331e-06, 6.638326808202501e-06, 6.813019618944673e-06, 6.987712429686843e-06, 7.162405240429014e-06, 7.337098051171186e-06, 7.511790861913357e-06, 7.686483672655528e-06, 7.8611764833977e-06, 8.03586929413987e-06, 8.210562104882042e-06, 8.385254915624213e-06, 8.559947726366383e-06, 8.734640537108554e-06, 8.909333347850726e-06, 9.084026158592897e-06, 9.258718969335068e-06, 9.43341178007724e-06, 9.60810459081941e-06, 9.782797401561582e-06, 9.957490212303753e-06, 1.0132183023045925e-05, 1.0306875833788094e-05, 1.0481568644530265e-05, 1.0656261455272437e-05, 1.0830954266014608e-05, 1.100564707675678e-05, 1.118033988749895e-05, 1.1355032698241122e-05, 1.1529725508983293e-05, 1.1704418319725463e-05, 1.1879111130467634e-05, 1.2053803941209805e-05, 1.2228496751951977e-05, 1.2403189562694148e-05, 1.257788237343632e-05, 1.275257518417849e-05, 1.2927267994920662e-05, 1.3101960805662831e-05, 1.3276653616405003e-05, 1.3451346427147174e-05, 1.3626039237889345e-05, 1.3800732048631515e-05, 1.3975424859373686e-05, 1.4150117670115857e-05, 1.4324810480858029e-05, 1.44995032916002e-05, 1.4674196102342371e-05, 1.4848888913084543e-05, 1.5023581723826714e-05, 1.5198274534568885e-05, 1.5372967345311056e-05, 1.5547660156053228e-05, 1.57223529667954e-05, 1.589704577753757e-05, 1.607173858827974e-05, 1.6246431399021913e-05, 1.6421124209764084e-05, 1.6595817020506255e-05, 1.6770509831248427e-05, 1.6945202641990595e-05, 1.7119895452732766e-05, 1.7294588263474937e-05, 1.746928107421711e-05, 1.764397388495928e-05, 1.781866669570145e-05, 1.7993359506443622e-05, 1.8168052317185794e-05, 1.8342745127927965e-05, 1.8517437938670136e-05, 1.8692130749412307e-05, 1.886682356015448e-05, 1.904151637089665e-05, 1.921620918163882e-05, 1.9390901992380993e-05, 1.9565594803123164e-05, 1.9740287613865335e-05, 1.9914980424607506e-05, 2.0089673235349678e-05, 2.026436604609185e-05, 2.043905885683402e-05, 2.0613751667576188e-05, 2.078844447831836e-05, 2.096313728906053e-05, 2.1137830099802702e-05, 2.1312522910544873e-05, 2.1487215721287045e-05, 2.1661908532029216e-05, 2.1836601342771387e-05, 2.201129415351356e-05, 2.218598696425573e-05, 2.23606797749979e-05, 2.253537258574007e-05, 2.2710065396482244e-05, 2.288475820722441e-05, 2.3059451017966586e-05, 2.3234143828708754e-05, 2.3408836639450925e-05, 2.3583529450193097e-05, 2.3758222260935268e-05, 2.393291507167744e-05, 2.410760788241961e-05, 2.4282300693161782e-05, 2.4456993503903953e-05, 2.4631686314646124e-05, 2.4806379125388296e-05, 2.4981071936130467e-05, 2.515576474687264e-05, 2.533045755761481e-05, 2.550515036835698e-05, 2.567984317909915e-05, 2.5854535989841323e-05, 2.602922880058349e-05, 2.6203921611325663e-05]\n",
    "len(learning_rate)"
   ]
  },
  {
   "cell_type": "code",
   "execution_count": 14,
   "id": "2dfbde35-fa7d-40bf-9b1a-7828a1f10665",
   "metadata": {},
   "outputs": [
    {
     "data": {
      "text/plain": [
       "dict_keys(['losses', 'grads', 'lr'])"
      ]
     },
     "execution_count": 14,
     "metadata": {},
     "output_type": "execute_result"
    }
   ],
   "source": [
    "test_dict = {\"losses\": a, \"grads\": grads, \"lr\": learning_rate}\n",
    "test_dict.keys()"
   ]
  },
  {
   "cell_type": "code",
   "execution_count": 15,
   "id": "d52c6eee-dcaa-4fb3-8e37-9182d32190a1",
   "metadata": {},
   "outputs": [
    {
     "data": {
      "text/html": [
       "<div>\n",
       "<style scoped>\n",
       "    .dataframe tbody tr th:only-of-type {\n",
       "        vertical-align: middle;\n",
       "    }\n",
       "\n",
       "    .dataframe tbody tr th {\n",
       "        vertical-align: top;\n",
       "    }\n",
       "\n",
       "    .dataframe thead th {\n",
       "        text-align: right;\n",
       "    }\n",
       "</style>\n",
       "<table border=\"1\" class=\"dataframe\">\n",
       "  <thead>\n",
       "    <tr style=\"text-align: right;\">\n",
       "      <th></th>\n",
       "      <th>losses</th>\n",
       "      <th>grads</th>\n",
       "      <th>lr</th>\n",
       "    </tr>\n",
       "  </thead>\n",
       "  <tbody>\n",
       "    <tr>\n",
       "      <th>0</th>\n",
       "      <td>8.947648</td>\n",
       "      <td>8.179413</td>\n",
       "      <td>1.746928e-07</td>\n",
       "    </tr>\n",
       "    <tr>\n",
       "      <th>1</th>\n",
       "      <td>8.939841</td>\n",
       "      <td>8.171946</td>\n",
       "      <td>3.493856e-07</td>\n",
       "    </tr>\n",
       "    <tr>\n",
       "      <th>2</th>\n",
       "      <td>8.930047</td>\n",
       "      <td>8.117675</td>\n",
       "      <td>5.240784e-07</td>\n",
       "    </tr>\n",
       "    <tr>\n",
       "      <th>3</th>\n",
       "      <td>8.932550</td>\n",
       "      <td>8.133056</td>\n",
       "      <td>6.987712e-07</td>\n",
       "    </tr>\n",
       "    <tr>\n",
       "      <th>4</th>\n",
       "      <td>8.944812</td>\n",
       "      <td>8.149549</td>\n",
       "      <td>8.734641e-07</td>\n",
       "    </tr>\n",
       "    <tr>\n",
       "      <th>...</th>\n",
       "      <td>...</td>\n",
       "      <td>...</td>\n",
       "      <td>...</td>\n",
       "    </tr>\n",
       "    <tr>\n",
       "      <th>145</th>\n",
       "      <td>4.016306</td>\n",
       "      <td>1.587861</td>\n",
       "      <td>2.550515e-05</td>\n",
       "    </tr>\n",
       "    <tr>\n",
       "      <th>146</th>\n",
       "      <td>3.973642</td>\n",
       "      <td>1.581303</td>\n",
       "      <td>2.567984e-05</td>\n",
       "    </tr>\n",
       "    <tr>\n",
       "      <th>147</th>\n",
       "      <td>3.947816</td>\n",
       "      <td>1.574060</td>\n",
       "      <td>2.585454e-05</td>\n",
       "    </tr>\n",
       "    <tr>\n",
       "      <th>148</th>\n",
       "      <td>3.911621</td>\n",
       "      <td>1.567360</td>\n",
       "      <td>2.602923e-05</td>\n",
       "    </tr>\n",
       "    <tr>\n",
       "      <th>149</th>\n",
       "      <td>3.860859</td>\n",
       "      <td>1.569949</td>\n",
       "      <td>2.620392e-05</td>\n",
       "    </tr>\n",
       "  </tbody>\n",
       "</table>\n",
       "<p>150 rows × 3 columns</p>\n",
       "</div>"
      ],
      "text/plain": [
       "       losses     grads            lr\n",
       "0    8.947648  8.179413  1.746928e-07\n",
       "1    8.939841  8.171946  3.493856e-07\n",
       "2    8.930047  8.117675  5.240784e-07\n",
       "3    8.932550  8.133056  6.987712e-07\n",
       "4    8.944812  8.149549  8.734641e-07\n",
       "..        ...       ...           ...\n",
       "145  4.016306  1.587861  2.550515e-05\n",
       "146  3.973642  1.581303  2.567984e-05\n",
       "147  3.947816  1.574060  2.585454e-05\n",
       "148  3.911621  1.567360  2.602923e-05\n",
       "149  3.860859  1.569949  2.620392e-05\n",
       "\n",
       "[150 rows x 3 columns]"
      ]
     },
     "execution_count": 15,
     "metadata": {},
     "output_type": "execute_result"
    }
   ],
   "source": [
    "df_test = pd.DataFrame(test_dict)\n",
    "df_test"
   ]
  },
  {
   "cell_type": "code",
   "execution_count": 22,
   "id": "978191f7-4f94-4b18-80b7-99589fa17b4e",
   "metadata": {},
   "outputs": [
    {
     "data": {
      "text/plain": [
       "8.179412841796875"
      ]
     },
     "execution_count": 22,
     "metadata": {},
     "output_type": "execute_result"
    }
   ],
   "source": [
    "df_test[\"grads\"].max()"
   ]
  },
  {
   "cell_type": "code",
   "execution_count": 37,
   "id": "de750bc6-5ac1-4f01-a0ca-0bdb90bebe80",
   "metadata": {},
   "outputs": [
    {
     "data": {
      "image/png": "[encoded data removed]",
      "text/plain": [
       "<Figure size 640x480 with 1 Axes>"
      ]
     },
     "metadata": {},
     "output_type": "display_data"
    }
   ],
   "source": [
    "import numpy as np\n",
    "x = np.arange(150)\n",
    "\n",
    "fig, ax = plt.subplots()\n",
    "ax.plot(x, df_test[\"losses\"], 'xkcd:crimson', label='losses')\n",
    "ax.plot(x, df_test[\"grads\"], 'xkcd:blue', label='grads')\n",
    "ax.set(xlabel='steps', ylabel='loss and gradients',)\n",
    "ax.grid()\n",
    "ax.set_ylim(ymin=0, ymax=10)\n",
    "ax.legend()\n",
    "plt.show()"
   ]
  }
 ],
 "metadata": {
  "kernelspec": {
   "display_name": "Python 3 (ipykernel)",
   "language": "python",
   "name": "python3"
  },
  "language_info": {
   "codemirror_mode": {
    "name": "ipython",
    "version": 3
   },
   "file_extension": ".py",
   "mimetype": "text/x-python",
   "name": "python",
   "nbconvert_exporter": "python",
   "pygments_lexer": "ipython3",
   "version": "3.11.9"
  }
 },
 "nbformat": 4,
 "nbformat_minor": 5
}
